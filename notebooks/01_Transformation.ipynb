{
 "cells": [
  {
   "cell_type": "code",
   "execution_count": 124,
   "id": "22c92f43",
   "metadata": {},
   "outputs": [],
   "source": [
    "#Libraries\n",
    "import pandas as pd\n",
    "import numpy as np\n",
    "from sklearn.pipeline import Pipeline\n",
    "from sklearn.impute import SimpleImputer\n",
    "from sklearn.preprocessing import StandardScaler, OneHotEncoder\n",
    "from sklearn.compose import ColumnTransformer\n",
    "from sklearn.model_selection import train_test_split\n",
    "import pickle\n",
    "import category_encoders as ce\n",
    "from sklearn.preprocessing import StandardScaler"
   ]
  },
  {
   "cell_type": "code",
   "execution_count": 112,
   "id": "6e52954d",
   "metadata": {},
   "outputs": [],
   "source": [
    "#We read the file that we prepared in the previous notebook\n",
    "data_fraud = pd.read_parquet('../data/processed/data_fraud_01.parquet')"
   ]
  },
  {
   "cell_type": "code",
   "execution_count": 113,
   "id": "96b055c1",
   "metadata": {},
   "outputs": [
    {
     "data": {
      "text/html": [
       "<div>\n",
       "<style scoped>\n",
       "    .dataframe tbody tr th:only-of-type {\n",
       "        vertical-align: middle;\n",
       "    }\n",
       "\n",
       "    .dataframe tbody tr th {\n",
       "        vertical-align: top;\n",
       "    }\n",
       "\n",
       "    .dataframe thead th {\n",
       "        text-align: right;\n",
       "    }\n",
       "</style>\n",
       "<table border=\"1\" class=\"dataframe\">\n",
       "  <thead>\n",
       "    <tr style=\"text-align: right;\">\n",
       "      <th></th>\n",
       "      <th>step</th>\n",
       "      <th>type</th>\n",
       "      <th>amount</th>\n",
       "      <th>device</th>\n",
       "      <th>connection_time</th>\n",
       "      <th>oldbalance_org</th>\n",
       "      <th>age</th>\n",
       "      <th>newbalance_orig</th>\n",
       "      <th>zone</th>\n",
       "      <th>user_number</th>\n",
       "      <th>user_connections</th>\n",
       "      <th>security_alert</th>\n",
       "      <th>oldbalance_dest</th>\n",
       "      <th>newbalance_dest</th>\n",
       "      <th>isfraud</th>\n",
       "    </tr>\n",
       "  </thead>\n",
       "  <tbody>\n",
       "    <tr>\n",
       "      <th>0</th>\n",
       "      <td>1</td>\n",
       "      <td>PAYMENT</td>\n",
       "      <td>9839.64</td>\n",
       "      <td>mac</td>\n",
       "      <td>0.140039</td>\n",
       "      <td>170136.0</td>\n",
       "      <td>85</td>\n",
       "      <td>160296.36</td>\n",
       "      <td>capital</td>\n",
       "      <td>138</td>\n",
       "      <td>5</td>\n",
       "      <td>1</td>\n",
       "      <td>0.0</td>\n",
       "      <td>0.0</td>\n",
       "      <td>0</td>\n",
       "    </tr>\n",
       "    <tr>\n",
       "      <th>1</th>\n",
       "      <td>1</td>\n",
       "      <td>PAYMENT</td>\n",
       "      <td>1864.28</td>\n",
       "      <td>mac</td>\n",
       "      <td>0.496890</td>\n",
       "      <td>21249.0</td>\n",
       "      <td>57</td>\n",
       "      <td>19384.72</td>\n",
       "      <td>country</td>\n",
       "      <td>909</td>\n",
       "      <td>1</td>\n",
       "      <td>0</td>\n",
       "      <td>0.0</td>\n",
       "      <td>0.0</td>\n",
       "      <td>0</td>\n",
       "    </tr>\n",
       "    <tr>\n",
       "      <th>2</th>\n",
       "      <td>1</td>\n",
       "      <td>TRANSFER</td>\n",
       "      <td>181.00</td>\n",
       "      <td>pc</td>\n",
       "      <td>0.781150</td>\n",
       "      <td>181.0</td>\n",
       "      <td>66</td>\n",
       "      <td>0.00</td>\n",
       "      <td>capital</td>\n",
       "      <td>2569</td>\n",
       "      <td>10</td>\n",
       "      <td>0</td>\n",
       "      <td>0.0</td>\n",
       "      <td>0.0</td>\n",
       "      <td>1</td>\n",
       "    </tr>\n",
       "    <tr>\n",
       "      <th>3</th>\n",
       "      <td>1</td>\n",
       "      <td>CASH_OUT</td>\n",
       "      <td>181.00</td>\n",
       "      <td>mac</td>\n",
       "      <td>0.565068</td>\n",
       "      <td>181.0</td>\n",
       "      <td>31</td>\n",
       "      <td>0.00</td>\n",
       "      <td>country</td>\n",
       "      <td>1787</td>\n",
       "      <td>3</td>\n",
       "      <td>0</td>\n",
       "      <td>21182.0</td>\n",
       "      <td>0.0</td>\n",
       "      <td>1</td>\n",
       "    </tr>\n",
       "    <tr>\n",
       "      <th>4</th>\n",
       "      <td>1</td>\n",
       "      <td>PAYMENT</td>\n",
       "      <td>11668.14</td>\n",
       "      <td>mac</td>\n",
       "      <td>0.517114</td>\n",
       "      <td>41554.0</td>\n",
       "      <td>90</td>\n",
       "      <td>29885.86</td>\n",
       "      <td>country</td>\n",
       "      <td>3997</td>\n",
       "      <td>8</td>\n",
       "      <td>0</td>\n",
       "      <td>0.0</td>\n",
       "      <td>0.0</td>\n",
       "      <td>0</td>\n",
       "    </tr>\n",
       "  </tbody>\n",
       "</table>\n",
       "</div>"
      ],
      "text/plain": [
       "   step      type    amount device  connection_time  oldbalance_org  age  \\\n",
       "0     1   PAYMENT   9839.64    mac         0.140039        170136.0   85   \n",
       "1     1   PAYMENT   1864.28    mac         0.496890         21249.0   57   \n",
       "2     1  TRANSFER    181.00     pc         0.781150           181.0   66   \n",
       "3     1  CASH_OUT    181.00    mac         0.565068           181.0   31   \n",
       "4     1   PAYMENT  11668.14    mac         0.517114         41554.0   90   \n",
       "\n",
       "   newbalance_orig     zone  user_number  user_connections  security_alert  \\\n",
       "0        160296.36  capital          138                 5               1   \n",
       "1         19384.72  country          909                 1               0   \n",
       "2             0.00  capital         2569                10               0   \n",
       "3             0.00  country         1787                 3               0   \n",
       "4         29885.86  country         3997                 8               0   \n",
       "\n",
       "   oldbalance_dest  newbalance_dest  isfraud  \n",
       "0              0.0              0.0        0  \n",
       "1              0.0              0.0        0  \n",
       "2              0.0              0.0        1  \n",
       "3          21182.0              0.0        1  \n",
       "4              0.0              0.0        0  "
      ]
     },
     "execution_count": 113,
     "metadata": {},
     "output_type": "execute_result"
    }
   ],
   "source": [
    "data_fraud.head()"
   ]
  },
  {
   "cell_type": "markdown",
   "id": "e2be9ec7",
   "metadata": {},
   "source": [
    "### Valores missing"
   ]
  },
  {
   "cell_type": "markdown",
   "id": "d35c85a2",
   "metadata": {},
   "source": [
    "The variables in which we have missing values (\"device\" and \"zone\") are categorical, so to replace them we are going to create a new category."
   ]
  },
  {
   "cell_type": "code",
   "execution_count": 114,
   "id": "d773bbdb",
   "metadata": {},
   "outputs": [
    {
     "data": {
      "text/html": [
       "<div>\n",
       "<style scoped>\n",
       "    .dataframe tbody tr th:only-of-type {\n",
       "        vertical-align: middle;\n",
       "    }\n",
       "\n",
       "    .dataframe tbody tr th {\n",
       "        vertical-align: top;\n",
       "    }\n",
       "\n",
       "    .dataframe thead th {\n",
       "        text-align: right;\n",
       "    }\n",
       "</style>\n",
       "<table border=\"1\" class=\"dataframe\">\n",
       "  <thead>\n",
       "    <tr style=\"text-align: right;\">\n",
       "      <th></th>\n",
       "      <th>index</th>\n",
       "      <th>columns_null</th>\n",
       "      <th>columns_percentage</th>\n",
       "    </tr>\n",
       "  </thead>\n",
       "  <tbody>\n",
       "    <tr>\n",
       "      <th>0</th>\n",
       "      <td>device</td>\n",
       "      <td>104580</td>\n",
       "      <td>0.099735</td>\n",
       "    </tr>\n",
       "    <tr>\n",
       "      <th>1</th>\n",
       "      <td>zone</td>\n",
       "      <td>104414</td>\n",
       "      <td>0.099577</td>\n",
       "    </tr>\n",
       "    <tr>\n",
       "      <th>2</th>\n",
       "      <td>step</td>\n",
       "      <td>0</td>\n",
       "      <td>0.000000</td>\n",
       "    </tr>\n",
       "    <tr>\n",
       "      <th>3</th>\n",
       "      <td>type</td>\n",
       "      <td>0</td>\n",
       "      <td>0.000000</td>\n",
       "    </tr>\n",
       "    <tr>\n",
       "      <th>4</th>\n",
       "      <td>amount</td>\n",
       "      <td>0</td>\n",
       "      <td>0.000000</td>\n",
       "    </tr>\n",
       "    <tr>\n",
       "      <th>5</th>\n",
       "      <td>connection_time</td>\n",
       "      <td>0</td>\n",
       "      <td>0.000000</td>\n",
       "    </tr>\n",
       "    <tr>\n",
       "      <th>6</th>\n",
       "      <td>oldbalance_org</td>\n",
       "      <td>0</td>\n",
       "      <td>0.000000</td>\n",
       "    </tr>\n",
       "    <tr>\n",
       "      <th>7</th>\n",
       "      <td>age</td>\n",
       "      <td>0</td>\n",
       "      <td>0.000000</td>\n",
       "    </tr>\n",
       "    <tr>\n",
       "      <th>8</th>\n",
       "      <td>newbalance_orig</td>\n",
       "      <td>0</td>\n",
       "      <td>0.000000</td>\n",
       "    </tr>\n",
       "    <tr>\n",
       "      <th>9</th>\n",
       "      <td>user_number</td>\n",
       "      <td>0</td>\n",
       "      <td>0.000000</td>\n",
       "    </tr>\n",
       "    <tr>\n",
       "      <th>10</th>\n",
       "      <td>user_connections</td>\n",
       "      <td>0</td>\n",
       "      <td>0.000000</td>\n",
       "    </tr>\n",
       "    <tr>\n",
       "      <th>11</th>\n",
       "      <td>security_alert</td>\n",
       "      <td>0</td>\n",
       "      <td>0.000000</td>\n",
       "    </tr>\n",
       "    <tr>\n",
       "      <th>12</th>\n",
       "      <td>oldbalance_dest</td>\n",
       "      <td>0</td>\n",
       "      <td>0.000000</td>\n",
       "    </tr>\n",
       "    <tr>\n",
       "      <th>13</th>\n",
       "      <td>newbalance_dest</td>\n",
       "      <td>0</td>\n",
       "      <td>0.000000</td>\n",
       "    </tr>\n",
       "    <tr>\n",
       "      <th>14</th>\n",
       "      <td>isfraud</td>\n",
       "      <td>0</td>\n",
       "      <td>0.000000</td>\n",
       "    </tr>\n",
       "  </tbody>\n",
       "</table>\n",
       "</div>"
      ],
      "text/plain": [
       "               index  columns_null  columns_percentage\n",
       "0             device        104580            0.099735\n",
       "1               zone        104414            0.099577\n",
       "2               step             0            0.000000\n",
       "3               type             0            0.000000\n",
       "4             amount             0            0.000000\n",
       "5    connection_time             0            0.000000\n",
       "6     oldbalance_org             0            0.000000\n",
       "7                age             0            0.000000\n",
       "8    newbalance_orig             0            0.000000\n",
       "9        user_number             0            0.000000\n",
       "10  user_connections             0            0.000000\n",
       "11    security_alert             0            0.000000\n",
       "12   oldbalance_dest             0            0.000000\n",
       "13   newbalance_dest             0            0.000000\n",
       "14           isfraud             0            0.000000"
      ]
     },
     "execution_count": 114,
     "metadata": {},
     "output_type": "execute_result"
    }
   ],
   "source": [
    "#Let's take a look again at the null values we have in the dataframe\n",
    "data_fraud_null_columns = data_fraud.isnull().sum().sort_values(ascending=False).to_frame('columns_null').reset_index()\n",
    "data_fraud_null_columns['columns_percentage'] = data_fraud_null_columns['columns_null']/data_fraud.shape[0]\n",
    "data_fraud_null_columns"
   ]
  },
  {
   "cell_type": "code",
   "execution_count": 115,
   "id": "1b4b677f",
   "metadata": {},
   "outputs": [],
   "source": [
    "#We create two lists to classify the variables in categorical or numeric\n",
    "var_category = [\"type\", \"device\", \"zone\", \"security_alert\"]\n",
    "\n",
    "var_num = [\"step\", \"amount\", \"connection_time\", \"oldbalance_org\", \"age\", \"newbalance_orig\", \"user_number\", \"user_connections\", \n",
    "           \"oldbalance_dest\", \"newbalance_dest\"]\n",
    "\n",
    "#Transformation of categorical variables\n",
    "data_fraud[var_category] = data_fraud[var_category].astype(\"category\")"
   ]
  },
  {
   "cell_type": "markdown",
   "id": "21e464fd",
   "metadata": {},
   "source": [
    "We are going to use SimpleImputer to replace null values and OneHotEncoder to encode categorical variables:"
   ]
  },
  {
   "cell_type": "code",
   "execution_count": 173,
   "id": "0709599b",
   "metadata": {},
   "outputs": [],
   "source": [
    "#SimpleImputer + OneHotEncoder\n",
    "onehot_transformer = Pipeline(steps=[\n",
    "    ('imputer', SimpleImputer(strategy='constant', fill_value='unkown')),\n",
    "    ('onehot', OneHotEncoder(handle_unknown='ignore'))])\n",
    "\n",
    "#We create the preprocessor\n",
    "preprocessor = ColumnTransformer(\n",
    "    transformers=[('cat', onehot_transformer, var_category)])"
   ]
  },
  {
   "cell_type": "code",
   "execution_count": 174,
   "id": "e3d88a26",
   "metadata": {},
   "outputs": [],
   "source": [
    "#We save the preprocessor to aply it in the models\n",
    "with open('../models/preprocessor.pickle', 'wb') as f:\n",
    "    pickle.dump(preprocessor, f)"
   ]
  },
  {
   "cell_type": "markdown",
   "id": "151413ce",
   "metadata": {},
   "source": [
    "### Split"
   ]
  },
  {
   "cell_type": "code",
   "execution_count": 135,
   "id": "2b70353d",
   "metadata": {},
   "outputs": [],
   "source": [
    "#We split the dataset in train and test. We put stratify because the data is unbalanced and select the size of the test\n",
    "#of 20%\n",
    "X_train, X_test, y_train, y_test = train_test_split(data_fraud.drop('isfraud',axis=1), \n",
    "                                                   data_fraud['isfraud'], \n",
    "                                                   stratify=data_fraud['isfraud'], \n",
    "                                                   test_size=0.2)"
   ]
  },
  {
   "cell_type": "markdown",
   "id": "0c5ec00c",
   "metadata": {},
   "source": [
    "### Encoding "
   ]
  },
  {
   "cell_type": "code",
   "execution_count": 157,
   "id": "f5ae8e13",
   "metadata": {},
   "outputs": [],
   "source": [
    "var_category_e = [\"type\", \"device\", \"zone\", \"security_alert\"]\n",
    "ohe = ce.OneHotEncoder(cols=var_category_e)\n",
    "model = ohe.fit(X_train, y_train)"
   ]
  },
  {
   "cell_type": "code",
   "execution_count": 172,
   "id": "dd7ac7f8",
   "metadata": {},
   "outputs": [
    {
     "data": {
      "text/plain": [
       "Index(['step', 'type_1', 'type_2', 'type_3', 'type_4', 'type_5', 'amount',\n",
       "       'device_1', 'device_2', 'device_3', 'device_4', 'connection_time',\n",
       "       'oldbalance_org', 'age', 'newbalance_orig', 'zone_1', 'zone_2',\n",
       "       'zone_3', 'zone_4', 'user_number', 'user_connections',\n",
       "       'security_alert_1', 'security_alert_2', 'oldbalance_dest',\n",
       "       'newbalance_dest'],\n",
       "      dtype='object')"
      ]
     },
     "execution_count": 172,
     "metadata": {},
     "output_type": "execute_result"
    }
   ],
   "source": [
    "X_train_t = model.transform(X_train, y_train)\n",
    "X_test_t = model.transform(X_test, y_test)\n",
    "X_train_t.columns"
   ]
  },
  {
   "cell_type": "markdown",
   "id": "586d230c",
   "metadata": {},
   "source": [
    "### Scale"
   ]
  },
  {
   "cell_type": "markdown",
   "id": "e88fb6d0",
   "metadata": {},
   "source": [
    "We have decided to scale the data so that they are all in a similar range and because modeling is faster when data is scaled."
   ]
  },
  {
   "cell_type": "code",
   "execution_count": 159,
   "id": "242b2cbc",
   "metadata": {},
   "outputs": [],
   "source": [
    "scaler = StandardScaler()\n",
    "model_scaled = scaler.fit(X_train_t)\n",
    "X_train_scaled = pd.DataFrame(scaler.transform(X_train_t), columns=X_train_t.columns, index=X_train_t.index)\n",
    "X_test_scaled = pd.DataFrame(scaler.transform(X_test_t), columns=X_test_t.columns, index=X_test.index)"
   ]
  },
  {
   "cell_type": "markdown",
   "id": "c27260a6",
   "metadata": {},
   "source": [
    "### Variable selection"
   ]
  },
  {
   "cell_type": "markdown",
   "id": "67204628",
   "metadata": {},
   "source": [
    "We have decided not to use any variable selection method and we are going to use all of them because we are not facing a problem in which we have too many variables, since we only have 14. We consider that we shouldn't eliminate any because we would have very few left to train the model."
   ]
  },
  {
   "cell_type": "code",
   "execution_count": 161,
   "id": "882179bd",
   "metadata": {},
   "outputs": [],
   "source": [
    "#Saving the data\n",
    "X_train.to_parquet(\"../data/processed/X_train.parquet\")\n",
    "X_test.to_parquet(\"../data/processed/X_test.parquet\")\n",
    "y_train.to_frame().to_parquet(\"../data/processed/y_train.parquet\")\n",
    "y_test.to_frame().to_parquet(\"../data/processed/y_test.parquet\")\n",
    "X_train_scaled.to_parquet(\"../data/processed/X_train_scaled.parquet\")\n",
    "X_test_scaled.to_parquet(\"../data/processed/X_test_scaled.parquet\")"
   ]
  }
 ],
 "metadata": {
  "kernelspec": {
   "display_name": "practicaEDA",
   "language": "python",
   "name": "practicaeda"
  },
  "language_info": {
   "codemirror_mode": {
    "name": "ipython",
    "version": 3
   },
   "file_extension": ".py",
   "mimetype": "text/x-python",
   "name": "python",
   "nbconvert_exporter": "python",
   "pygments_lexer": "ipython3",
   "version": "3.9.13"
  }
 },
 "nbformat": 4,
 "nbformat_minor": 5
}
