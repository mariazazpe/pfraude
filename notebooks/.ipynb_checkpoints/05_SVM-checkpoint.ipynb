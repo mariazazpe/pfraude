{
 "cells": [
  {
   "cell_type": "code",
   "execution_count": 1,
   "id": "e6e667d4",
   "metadata": {},
   "outputs": [],
   "source": [
    "import pandas as pd\n",
    "import pickle\n",
    "from sklearn.metrics import confusion_matrix, roc_curve, roc_auc_score, accuracy_score, classification_report\n",
    "from sklearn.feature_selection import SelectFromModel, RFE\n",
    "from sklearn import linear_model\n",
    "from imblearn.pipeline import Pipeline\n",
    "from imblearn.over_sampling import SMOTE \n",
    "from sklearn.svm import SVC"
   ]
  },
  {
   "cell_type": "code",
   "execution_count": 2,
   "id": "bd3b71cb",
   "metadata": {},
   "outputs": [],
   "source": [
    "def evaluate_model(ytest, ypred, ypred_proba = None):\n",
    "    if ypred_proba is not None:\n",
    "        print('ROC-AUC score of the model: {}'.format(roc_auc_score(ytest, ypred_proba[:, 1])))\n",
    "    print('Accuracy of the model: {}\\n'.format(accuracy_score(ytest, ypred)))\n",
    "    print('Classification report: \\n{}\\n'.format(classification_report(ytest, ypred)))\n",
    "    print('Confusion matrix: \\n{}\\n'.format(confusion_matrix(ytest, ypred)))"
   ]
  },
  {
   "cell_type": "code",
   "execution_count": 3,
   "id": "55ea34a9",
   "metadata": {},
   "outputs": [],
   "source": [
    "X_train = pd.read_parquet(\"../data/processed/X_train.parquet\")\n",
    "y_train = pd.read_parquet(\"../data/processed/y_train.parquet\")['isfraud']\n",
    "X_test = pd.read_parquet(\"../data/processed/X_test.parquet\")\n",
    "y_test = pd.read_parquet(\"../data/processed/y_test.parquet\")['isfraud']\n",
    "X_train_scaled = pd.read_parquet(\"../data/processed/X_train_scaled.parquet\")\n",
    "X_test_scaled = pd.read_parquet(\"../data/processed/X_test_scaled.parquet\")"
   ]
  },
  {
   "cell_type": "code",
   "execution_count": 4,
   "id": "747cf9d7",
   "metadata": {},
   "outputs": [],
   "source": [
    "classifier = SVC(kernel='linear', probability=True)\n",
    "smt = SMOTE(sampling_strategy=0.5, n_jobs=-1)"
   ]
  },
  {
   "cell_type": "code",
   "execution_count": 5,
   "id": "ecde662d",
   "metadata": {},
   "outputs": [],
   "source": [
    "clf_svm = Pipeline(steps=[\n",
    "    ('smote', smt),\n",
    "    ('clasificador', classifier)])"
   ]
  },
  {
   "cell_type": "code",
   "execution_count": null,
   "id": "da2ae483",
   "metadata": {},
   "outputs": [],
   "source": [
    "clf_svm.fit(X_train_scaled, y_train)"
   ]
  },
  {
   "cell_type": "code",
   "execution_count": null,
   "id": "ac0ba240",
   "metadata": {},
   "outputs": [],
   "source": [
    "y_pred_svm = clf_svm.predict(X_test_scaled)\n",
    "ypred_proba_svm = clf_svm.predict_proba(X_test_scaled)"
   ]
  },
  {
   "cell_type": "code",
   "execution_count": null,
   "id": "a6a3459b",
   "metadata": {},
   "outputs": [],
   "source": [
    "evaluate_model(y_test, y_pred_svm, ypred_proba_svm)"
   ]
  },
  {
   "cell_type": "markdown",
   "id": "90b85945",
   "metadata": {},
   "source": [
    "Unfortunately, we have not been able to run the model. The fit part has never loaded. We have tried it for several days and with different programs but we have not been able to obtain a prediction. It's a more complex model and might have been good for our problem."
   ]
  }
 ],
 "metadata": {
  "kernelspec": {
   "display_name": "practicaEDA",
   "language": "python",
   "name": "practicaeda"
  },
  "language_info": {
   "codemirror_mode": {
    "name": "ipython",
    "version": 3
   },
   "file_extension": ".py",
   "mimetype": "text/x-python",
   "name": "python",
   "nbconvert_exporter": "python",
   "pygments_lexer": "ipython3",
   "version": "3.9.13"
  }
 },
 "nbformat": 4,
 "nbformat_minor": 5
}
