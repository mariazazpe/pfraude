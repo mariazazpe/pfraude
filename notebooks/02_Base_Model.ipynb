{
 "cells": [
  {
   "cell_type": "markdown",
   "id": "5153552a",
   "metadata": {},
   "source": [
    "# Base model"
   ]
  },
  {
   "cell_type": "markdown",
   "id": "390b4cf4",
   "metadata": {},
   "source": [
    "We are going to create a base model that establishes 0 for the entire target variable, that it is not fraud."
   ]
  },
  {
   "cell_type": "code",
   "execution_count": 99,
   "id": "23f61aaa",
   "metadata": {},
   "outputs": [],
   "source": [
    "#Libraries\n",
    "import pandas as pd\n",
    "import pickle\n",
    "from statistics import mode\n",
    "from sklearn.metrics import confusion_matrix, roc_curve, roc_auc_score, accuracy_score, classification_report\n",
    "from sklearn.pipeline import Pipeline\n",
    "import scikitplot as skplt\n",
    "import matplotlib.pyplot as plt"
   ]
  },
  {
   "cell_type": "code",
   "execution_count": 100,
   "id": "b7904dfa",
   "metadata": {},
   "outputs": [],
   "source": [
    "#We read the data\n",
    "X_train = pd.read_parquet(\"../data/processed/X_train.parquet\")\n",
    "y_train = pd.read_parquet(\"../data/processed/y_train.parquet\")\n",
    "X_test = pd.read_parquet(\"../data/processed/X_test.parquet\")\n",
    "y_test = pd.read_parquet(\"../data/processed/y_test.parquet\")\n",
    "X_train_scaled = pd.read_parquet(\"../data/processed/X_train_scaled.parquet\")"
   ]
  },
  {
   "cell_type": "code",
   "execution_count": 101,
   "id": "120518de",
   "metadata": {},
   "outputs": [],
   "source": [
    "#We load the preprocessor\n",
    "preprocessor = pickle.load(open('../models/preprocessor.pickle', 'rb'))"
   ]
  },
  {
   "cell_type": "code",
   "execution_count": 102,
   "id": "70354207",
   "metadata": {},
   "outputs": [],
   "source": [
    "#We create a building that stablish 0 for the entire prediction\n",
    "class ModeloBase():\n",
    "    def __init__(self):\n",
    "        self.prediccion = 0\n",
    "        \n",
    "    def fit(self, y_train):\n",
    "     # This obtain the mode (number most frequently) that is 0, there is no fraud\n",
    "        self.prediccion = mode(y_train)\n",
    "        \n",
    "    def predict(self, X):\n",
    "        return [self.prediccion for _ in range(len(X))]"
   ]
  },
  {
   "cell_type": "code",
   "execution_count": 103,
   "id": "69f6d1ad",
   "metadata": {},
   "outputs": [],
   "source": [
    "#We apply the model\n",
    "modelo_base = ModeloBase()\n",
    "\n",
    "#We train the model\n",
    "modelo_base.fit(y_train['isfraud'])\n",
    "\n",
    "#We create the prediction\n",
    "y_pred_base = modelo_base.predict(X_test)"
   ]
  },
  {
   "cell_type": "code",
   "execution_count": 104,
   "id": "f8aad913",
   "metadata": {},
   "outputs": [],
   "source": [
    "#Function to evaluate the model\n",
    "def evaluate_model(ytest, ypred, ypred_proba = None):\n",
    "    if ypred_proba is not None:\n",
    "        print('ROC-AUC score of the model: {}'.format(roc_auc_score(ytest, ypred_proba[:, 1])))\n",
    "    print('Accuracy of the model: {}\\n'.format(accuracy_score(ytest, ypred)))\n",
    "    print('Classification report: \\n{}\\n'.format(classification_report(ytest, ypred)))\n",
    "    print('Confusion matrix: \\n{}\\n'.format(confusion_matrix(ytest, ypred)))"
   ]
  },
  {
   "cell_type": "code",
   "execution_count": 105,
   "id": "aabc72d2",
   "metadata": {
    "scrolled": true
   },
   "outputs": [
    {
     "name": "stdout",
     "output_type": "stream",
     "text": [
      "Accuracy of the model: 0.9989128102424719\n",
      "\n"
     ]
    },
    {
     "name": "stderr",
     "output_type": "stream",
     "text": [
      "C:\\Users\\Alba\\anaconda3\\envs\\practicaEDA\\lib\\site-packages\\sklearn\\metrics\\_classification.py:1334: UndefinedMetricWarning: Precision and F-score are ill-defined and being set to 0.0 in labels with no predicted samples. Use `zero_division` parameter to control this behavior.\n",
      "  _warn_prf(average, modifier, msg_start, len(result))\n",
      "C:\\Users\\Alba\\anaconda3\\envs\\practicaEDA\\lib\\site-packages\\sklearn\\metrics\\_classification.py:1334: UndefinedMetricWarning: Precision and F-score are ill-defined and being set to 0.0 in labels with no predicted samples. Use `zero_division` parameter to control this behavior.\n",
      "  _warn_prf(average, modifier, msg_start, len(result))\n",
      "C:\\Users\\Alba\\anaconda3\\envs\\practicaEDA\\lib\\site-packages\\sklearn\\metrics\\_classification.py:1334: UndefinedMetricWarning: Precision and F-score are ill-defined and being set to 0.0 in labels with no predicted samples. Use `zero_division` parameter to control this behavior.\n",
      "  _warn_prf(average, modifier, msg_start, len(result))\n"
     ]
    },
    {
     "name": "stdout",
     "output_type": "stream",
     "text": [
      "Classification report: \n",
      "              precision    recall  f1-score   support\n",
      "\n",
      "           0       1.00      1.00      1.00    209487\n",
      "           1       0.00      0.00      0.00       228\n",
      "\n",
      "    accuracy                           1.00    209715\n",
      "   macro avg       0.50      0.50      0.50    209715\n",
      "weighted avg       1.00      1.00      1.00    209715\n",
      "\n",
      "\n",
      "Confusion matrix: \n",
      "[[209487      0]\n",
      " [   228      0]]\n",
      "\n"
     ]
    }
   ],
   "source": [
    "evaluate_model(y_test, y_pred_base)"
   ]
  },
  {
   "cell_type": "markdown",
   "id": "62b9fe9e",
   "metadata": {},
   "source": [
    "Support tells us the real data we have, 209487 which are 0 and 228 which are 1. The quality of the model is very poor, as it does not identify fraud.\n",
    "\n",
    "The precision is the evaluation of the second column of the confusion matrix and its precision is 1 (very high) for the 0 cases, but it is 0 (null) for the 1 cases, it fails to identify any fraud.\n",
    "\n",
    "The recall refers to the second row of the confusion matrix, the prediction is bad because it fails to identify the frauds, it identifies them as 0, not fraud.\n",
    "\n",
    "The f1 is the combination of these two measures and gives the same result.\n",
    "\n",
    "The accuracy is high but because the target variable is unbalanced and most are 0, no matter how much it fails to predict fraud, it still hits non-fraud."
   ]
  },
  {
   "cell_type": "code",
   "execution_count": 129,
   "id": "5e472abe",
   "metadata": {},
   "outputs": [],
   "source": [
    "#We save the model\n",
    "with open('../models/modelo_base.pickle', 'wb') as f:\n",
    "    pickle.dump(modelo_base, f)"
   ]
  }
 ],
 "metadata": {
  "kernelspec": {
   "display_name": "practicaEDA",
   "language": "python",
   "name": "practicaeda"
  },
  "language_info": {
   "codemirror_mode": {
    "name": "ipython",
    "version": 3
   },
   "file_extension": ".py",
   "mimetype": "text/x-python",
   "name": "python",
   "nbconvert_exporter": "python",
   "pygments_lexer": "ipython3",
   "version": "3.9.13"
  }
 },
 "nbformat": 4,
 "nbformat_minor": 5
}
